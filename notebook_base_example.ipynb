{
 "cells": [
  {
   "cell_type": "markdown",
   "metadata": {},
   "source": [
    "# Propulsion Module Example: Performance Analysis\n",
    "evaluation of the performance of the propulsion to a given rotation N_2, in the following condition:\n",
    "\n",
    "mach :      0\n",
    "\n",
    "Pa   : 101.30\n",
    "\n",
    "Ta   : 288.20"
   ]
  },
  {
   "cell_type": "markdown",
   "metadata": {},
   "source": [
    "### Part 1\n",
    "importing classes and defining auxiliary functions to load aircraft and setting analysis parameters"
   ]
  },
  {
   "cell_type": "code",
   "execution_count": 1,
   "metadata": {},
   "outputs": [],
   "source": [
    "from aircraft import Aircraft\n",
    "from calculation_modules.propulsion.propulsion_wrapper import PropulsionWrapper\n",
    "\n",
    "\n",
    "def load_aircraft(aircraft_name):\n",
    "    ''' Import Propulsion from file'''\n",
    "    aircraft = Aircraft(aircraft_name)\n",
    "    aircraft.load_aircraft()\n",
    "\n",
    "    return aircraft\n",
    "\n",
    "def set_propulsion_parameters(aircraft, mach, Pa, Po, Ta, N_2, rotation_flag=True):\n",
    "    ''' Setting Computation Parameters'''\n",
    "    propulsion_wrapper = PropulsionWrapper(aircraft)\n",
    "    propulsion_wrapper.set_mach(mach)\n",
    "    propulsion_wrapper.set_pressure_a(Pa)\n",
    "    propulsion_wrapper.set_outlet_pressure(Po)\n",
    "    propulsion_wrapper.set_temperature_a(Ta)\n",
    "    propulsion_wrapper.set_compressor_rotation(N_2)\n",
    "    propulsion_wrapper.set_rotation_flag(rotation_flag)\n",
    "    return propulsion_wrapper    \n",
    "\n"
   ]
  },
  {
   "cell_type": "markdown",
   "metadata": {},
   "source": [
    "### Part 2\n",
    "Defining and loading aircraft, getting the components (compressor, combustor) that we will vary the parameters. To get a component we need to specify the stream_id of the component and its name."
   ]
  },
  {
   "cell_type": "code",
   "execution_count": 2,
   "metadata": {},
   "outputs": [],
   "source": [
    "\n",
    "''' Component Parameters'''\n",
    "aircraft_name = 'TurboFan23'\n",
    "aircraft = load_aircraft(aircraft_name)"
   ]
  },
  {
   "cell_type": "markdown",
   "metadata": {},
   "source": [
    "### Part 3\n",
    "Defining the analysis parameters, condition of flight and rotation list."
   ]
  },
  {
   "cell_type": "code",
   "execution_count": 3,
   "metadata": {},
   "outputs": [],
   "source": [
    "''' Analysis Parameters'''\n",
    "mach = 0\n",
    "Pa = 101.63\n",
    "Po = Pa\n",
    "Ta = 290\n",
    "N_2 = 1.0\n",
    "rotation_flag = True"
   ]
  },
  {
   "cell_type": "markdown",
   "metadata": {},
   "source": [
    "### Part 4\n",
    "Setting the analysis parameters and computing performance and thermodynamic states.\n",
    "\n"
   ]
  },
  {
   "cell_type": "code",
   "execution_count": 4,
   "metadata": {},
   "outputs": [],
   "source": [
    "\n",
    "propulsion_wrapper = set_propulsion_parameters(aircraft, mach, Pa, Po, Ta, N_2, rotation_flag)\n",
    "propulsion_wrapper.initialize()\n",
    "propulsion_wrapper.compute()\n"
   ]
  },
  {
   "cell_type": "markdown",
   "metadata": {},
   "source": [
    "# Part 5:\n",
    "Saving some results in variables and printing all the results"
   ]
  },
  {
   "cell_type": "code",
   "execution_count": 5,
   "metadata": {},
   "outputs": [
    {
     "name": "stdout",
     "output_type": "stream",
     "text": [
      "-----------------------------------------------------------------\n",
      "Thermodynamic States\n",
      "-----------------------------------------------------------------\n",
      "T_0 :  {1: {'intake': 290.0, 'fan': 353.000765717894, 'compressor': 512.0263157102492, 'combustor': 1548.8267377497195, 'turbine_compressor': 1389.8011877573645, 'turbine_fan': 1037.5056576402842, 'nozzle_hot_air': 1037.5056576402842}, 2: {'intake': 290.0, 'fan': 353.000765717894, 'nozzle_fan': 353.000765717894}}\n",
      "P_0 :  {1: {'intake': 101.63, 'fan': 194.0878718393972, 'compressor': 3329.9656171485362, 'combustor': 3163.4673362911094, 'turbine_compressor': 1995.525802907943, 'turbine_fan': 556.7600764258985, 'nozzle_hot_air': 556.7600764258985}, 2: {'intake': 101.63, 'fan': 194.0878718393972, 'nozzle_fan': 194.0878718393972}}\n",
      "outlet_speed :  {1: {'nozzle_hot_air': 896.0277747817421}, 2: {'nozzle_fan': 343.2577277437807}}\n",
      "-----------------------------------------------------------------\n",
      "-----------------------------------------------------------------\n",
      "Propulsion Efficiencies\n",
      "-----------------------------------------------------------------\n",
      "thermal_efficiency :  0.589500784930627\n",
      "propulsion_efficiency :  0.0\n",
      "total_efficiency :  0.0\n",
      "-----------------------------------------------------------------\n",
      "-----------------------------------------------------------------\n",
      "Propulsion Performance\n",
      "-----------------------------------------------------------------\n",
      "specific_thrust :  2496.0694786968043\n",
      "fuel_air_ratio :  {1: {'combustor': 0.026593046218742526}}\n",
      "-----------------------------------------------------------------\n",
      "-----------------------------------------------------------------\n",
      "Fuel Consumption\n",
      "-----------------------------------------------------------------\n",
      "TSFC :  1.0653968747947967e-05\n",
      "-----------------------------------------------------------------\n"
     ]
    }
   ],
   "source": [
    "\n",
    "propulsion_results = propulsion_wrapper.get_results()\n",
    "\n",
    "TSFC = propulsion_results.get_TSFC()\n",
    "specific_thrust = propulsion_results.get_specific_thrust()\n",
    "thermal_efficiency = propulsion_results.get_thermal_efficiency()\n",
    "propulsion_efficiency = propulsion_results.get_propulsion_efficiency()\n",
    "\n",
    "\n",
    "propulsion_results.print_all()\n",
    "\n",
    "\n",
    "\n",
    "    "
   ]
  }
 ],
 "metadata": {
  "interpreter": {
   "hash": "4832126f7d4047808203b0af11e9afdb260dabb5323c882ffc138c3bbac44c58"
  },
  "kernelspec": {
   "display_name": "Python 3.9.1 64-bit",
   "language": "python",
   "name": "python3"
  },
  "language_info": {
   "codemirror_mode": {
    "name": "ipython",
    "version": 3
   },
   "file_extension": ".py",
   "mimetype": "text/x-python",
   "name": "python",
   "nbconvert_exporter": "python",
   "pygments_lexer": "ipython3",
   "version": "3.9.1"
  },
  "orig_nbformat": 4
 },
 "nbformat": 4,
 "nbformat_minor": 2
}
